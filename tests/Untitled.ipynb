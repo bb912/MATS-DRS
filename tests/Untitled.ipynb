{
 "cells": [
  {
   "cell_type": "code",
   "execution_count": null,
   "metadata": {},
   "outputs": [],
   "source": [
    "from collections import Counter\n",
    "from unittest import TestCase\n",
    "import unittest\n",
    "\n",
    "from autograph.lib.envs.mineworldenv_adv import MineWorldConfig, MineWorldEnv, MineWorldTileType, \\\n",
    "    InventoryItemConfig, TilePlacement\n",
    "\n",
    "\n",
    "#class TestMineWorld(TestCase):\n",
    "#def test_empty_world(self):\n",
    "cfg = MineWorldConfig((10, 10), (0, 0), [], [])\n",
    "world = MineWorldEnv(cfg)\n",
    "\n",
    "obs, *_ = world.reset()\n",
    "        #self.assertEqual((0, 0), obs)\n",
    "\n",
    "for attempt in (0, 3, 4, 5):\n",
    "     (obs, *_), *_ = world.step(attempt)\n",
    "        world.render()\n",
    "            #self.assertEqual(0, 0), obs\n",
    "\n",
    "        for i in range(1, 9):\n",
    "            (obs, *_), *_ = world.step(1)\n",
    "            #self.assertEqual((i, i - 1), obs)\n",
    "            (obs, *_), *_ = world.step(2)\n",
    "            #self.assertEqual((i, i), obs)\n",
    "\n",
    "        for attempt in (1, 2, 4, 5):\n",
    "            (obs, *_), *_ = world.step(attempt)\n",
    "            #self.assertEqual(0, 0), obs\n",
    "\n",
    "#def test_basic_ap(self):\n",
    "        cfg = MineWorldConfig((10, 10), (2, 4),\n",
    "                              [TilePlacement(tile=MineWorldTileType(False, Counter(a=2, b=-1, c=1), \"ap\", \"F\"),\n",
    "                                             fixed_placements=[(2, 4)])],\n",
    "                              [InventoryItemConfig(\"a\", 2, 5), InventoryItemConfig(\"b\", 2, 2),\n",
    "                               InventoryItemConfig(\"c\", 0, 5)])\n",
    "        world = MineWorldEnv(cfg)\n",
    "\n",
    "        rounds = (\n",
    "            (.4, 1, 0),\n",
    "            (.8, .5, .2),\n",
    "            (1, 0, .4),\n",
    "            (1, 0, .4),\n",
    "            (1, 0, .4)\n",
    "        )\n",
    "        obs = world.reset()\n",
    "\n",
    "        for round in rounds:\n",
    "            expected = ((2, 4), (frozenset({(2, 4)}),), round)\n",
    "            #self.assertEqual(expected, obs)\n",
    "\n",
    "            obs, *_ = world.step(5)\n",
    "\n",
    " #   def test_ap_generation(self):\n",
    "        cfg = MineWorldConfig((10, 10), (0, 0),\n",
    "                              [TilePlacement(tile=MineWorldTileType(False, Counter(), \"a\", \"F\"),\n",
    "                                             fixed_placements=[(4, 5)]),\n",
    "                               TilePlacement(tile=MineWorldTileType(False, Counter(), \"b\", \"F\"), random_placements=98)],\n",
    "                              [])\n",
    "\n",
    "        world = MineWorldEnv(cfg)\n",
    "        pos, (a_locs, b_locs), _ = world.reset()\n",
    "\n",
    "        #self.assertEqual(a_locs, frozenset({(4, 5)}))\n",
    "        #self.assertEqual(len(b_locs), 98)\n",
    "        for loc in b_locs:\n",
    "            self.assertNotEqual(loc, (4, 5))\n",
    "\n"
   ]
  },
  {
   "cell_type": "code",
   "execution_count": 1,
   "metadata": {},
   "outputs": [
    {
     "ename": "ModuleNotFoundError",
     "evalue": "No module named 'autograph'",
     "output_type": "error",
     "traceback": [
      "\u001b[0;31m---------------------------------------------------------------------------\u001b[0m",
      "\u001b[0;31mModuleNotFoundError\u001b[0m                       Traceback (most recent call last)",
      "\u001b[0;32m<ipython-input-1-b590697e145a>\u001b[0m in \u001b[0;36m<module>\u001b[0;34m\u001b[0m\n\u001b[1;32m      3\u001b[0m \u001b[0;31m#import unittest\u001b[0m\u001b[0;34m\u001b[0m\u001b[0;34m\u001b[0m\u001b[0;34m\u001b[0m\u001b[0m\n\u001b[1;32m      4\u001b[0m \u001b[0;34m\u001b[0m\u001b[0m\n\u001b[0;32m----> 5\u001b[0;31m \u001b[0;32mfrom\u001b[0m \u001b[0mautograph\u001b[0m\u001b[0;34m.\u001b[0m\u001b[0mlib\u001b[0m\u001b[0;34m.\u001b[0m\u001b[0menvs\u001b[0m\u001b[0;34m.\u001b[0m\u001b[0mmineworldenv_adv\u001b[0m \u001b[0;32mimport\u001b[0m \u001b[0mMineWorldConfig\u001b[0m\u001b[0;34m,\u001b[0m \u001b[0mMineWorldEnv\u001b[0m\u001b[0;34m,\u001b[0m \u001b[0mMineWorldTileType\u001b[0m\u001b[0;34m,\u001b[0m\u001b[0;31m \u001b[0m\u001b[0;31m\\\u001b[0m\u001b[0;34m\u001b[0m\u001b[0;34m\u001b[0m\u001b[0m\n\u001b[0m\u001b[1;32m      6\u001b[0m     \u001b[0mInventoryItemConfig\u001b[0m\u001b[0;34m,\u001b[0m \u001b[0mTilePlacement\u001b[0m\u001b[0;34m\u001b[0m\u001b[0;34m\u001b[0m\u001b[0m\n\u001b[1;32m      7\u001b[0m \u001b[0;34m\u001b[0m\u001b[0m\n",
      "\u001b[0;31mModuleNotFoundError\u001b[0m: No module named 'autograph'"
     ]
    }
   ],
   "source": [
    "from collections import Counter\n",
    "#from unittest import TestCase\n",
    "#import unittest\n",
    "\n",
    "from autograph.lib.envs.mineworldenv_adv import MineWorldConfig, MineWorldEnv, MineWorldTileType, \\\n",
    "    InventoryItemConfig, TilePlacement\n",
    "\n",
    "\n",
    "#class TestMineWorld(TestCase):\n",
    "#def test_empty_world(self):\n",
    "cfg = MineWorldConfig((10, 10), (0, 0), [], [])\n",
    "world = MineWorldEnv(cfg)\n",
    "\n",
    "obs, *_ = world.reset()\n",
    "        #self.assertEqual((0, 0), obs)\n",
    "\n",
    "for attempt in (0, 3, 4, 5):\n",
    "     (obs, *_), *_ = world.step(attempt)\n",
    "     world.render()"
   ]
  },
  {
   "cell_type": "code",
   "execution_count": null,
   "metadata": {},
   "outputs": [],
   "source": []
  },
  {
   "cell_type": "code",
   "execution_count": null,
   "metadata": {},
   "outputs": [],
   "source": []
  },
  {
   "cell_type": "code",
   "execution_count": null,
   "metadata": {},
   "outputs": [],
   "source": []
  }
 ],
 "metadata": {
  "kernelspec": {
   "display_name": "Python 3",
   "language": "python",
   "name": "python3"
  },
  "language_info": {
   "codemirror_mode": {
    "name": "ipython",
    "version": 3
   },
   "file_extension": ".py",
   "mimetype": "text/x-python",
   "name": "python",
   "nbconvert_exporter": "python",
   "pygments_lexer": "ipython3",
   "version": "3.7.4"
  }
 },
 "nbformat": 4,
 "nbformat_minor": 2
}
