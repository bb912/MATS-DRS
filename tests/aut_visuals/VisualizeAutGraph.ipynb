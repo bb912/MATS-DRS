{
 "cells": [
  {
   "cell_type": "code",
   "execution_count": 1,
   "metadata": {
    "pycharm": {
     "is_executing": false,
     "name": "#%% Load json and display automata for specifiedagents\n"
    }
   },
   "outputs": [
    {
     "output_type": "error",
     "ename": "ModuleNotFoundError",
     "evalue": "No module named 'flloat'",
     "traceback": [
      "\u001b[0;31m---------------------------------------------------------------------------\u001b[0m",
      "\u001b[0;31mModuleNotFoundError\u001b[0m                       Traceback (most recent call last)",
      "\u001b[0;32m<ipython-input-1-6a6fc53dc0fb>\u001b[0m in \u001b[0;36m<module>\u001b[0;34m\u001b[0m\n\u001b[1;32m      8\u001b[0m \u001b[0;34m\u001b[0m\u001b[0m\n\u001b[1;32m      9\u001b[0m \u001b[0;34m\u001b[0m\u001b[0m\n\u001b[0;32m---> 10\u001b[0;31m \u001b[0;32mfrom\u001b[0m \u001b[0mautograph\u001b[0m\u001b[0;34m.\u001b[0m\u001b[0mlib\u001b[0m\u001b[0;34m.\u001b[0m\u001b[0mautomata\u001b[0m \u001b[0;32mimport\u001b[0m \u001b[0mAutomatonGraph\u001b[0m\u001b[0;34m\u001b[0m\u001b[0;34m\u001b[0m\u001b[0m\n\u001b[0m\u001b[1;32m     11\u001b[0m \u001b[0;32mfrom\u001b[0m \u001b[0mIPython\u001b[0m\u001b[0;34m.\u001b[0m\u001b[0mdisplay\u001b[0m \u001b[0;32mimport\u001b[0m \u001b[0mdisplay\u001b[0m\u001b[0;34m,\u001b[0m\u001b[0mSVG\u001b[0m\u001b[0;34m\u001b[0m\u001b[0;34m\u001b[0m\u001b[0m\n\u001b[1;32m     12\u001b[0m \u001b[0;32mimport\u001b[0m \u001b[0mjson5\u001b[0m \u001b[0;32mas\u001b[0m \u001b[0mjson\u001b[0m\u001b[0;34m\u001b[0m\u001b[0;34m\u001b[0m\u001b[0m\n",
      "\u001b[0;32m~/vgts/autograph/lib/automata.py\u001b[0m in \u001b[0;36m<module>\u001b[0;34m\u001b[0m\n\u001b[1;32m      2\u001b[0m \u001b[0;34m\u001b[0m\u001b[0m\n\u001b[1;32m      3\u001b[0m \u001b[0;32mimport\u001b[0m \u001b[0mnetworkx\u001b[0m\u001b[0;34m\u001b[0m\u001b[0;34m\u001b[0m\u001b[0m\n\u001b[0;32m----> 4\u001b[0;31m \u001b[0;32mfrom\u001b[0m \u001b[0mflloat\u001b[0m\u001b[0;34m.\u001b[0m\u001b[0mparser\u001b[0m\u001b[0;34m.\u001b[0m\u001b[0mltlf\u001b[0m \u001b[0;32mimport\u001b[0m \u001b[0mLTLfParser\u001b[0m\u001b[0;34m\u001b[0m\u001b[0;34m\u001b[0m\u001b[0m\n\u001b[0m\u001b[1;32m      5\u001b[0m \u001b[0;32mfrom\u001b[0m \u001b[0mflloat\u001b[0m\u001b[0;34m.\u001b[0m\u001b[0msemantics\u001b[0m\u001b[0;34m.\u001b[0m\u001b[0mpl\u001b[0m \u001b[0;32mimport\u001b[0m \u001b[0m_PLInterpretation\u001b[0m\u001b[0;34m\u001b[0m\u001b[0;34m\u001b[0m\u001b[0m\n\u001b[1;32m      6\u001b[0m \u001b[0;32mfrom\u001b[0m \u001b[0mpythomata\u001b[0m\u001b[0;34m.\u001b[0m\u001b[0mbase\u001b[0m \u001b[0;32mimport\u001b[0m \u001b[0mDFA\u001b[0m\u001b[0;34m\u001b[0m\u001b[0;34m\u001b[0m\u001b[0m\n",
      "\u001b[0;31mModuleNotFoundError\u001b[0m: No module named 'flloat'"
     ]
    }
   ],
   "source": [
    "# To use this, you need to install the graphviz development package and pygrphviz. Commands are as follows:\n",
    "#   sudo apt-get install graphviz-dev\n",
    "#   pip install pygraphviz\n",
    "\n",
    "# To export the notebook (nbconvert probably needs to be installed first - I am not sure the details):\n",
    "#   jupyter nbconvert VisualizeAutGraph.ipynb --to pdf\n",
    "#   jupyter nbconvert VisualizeAutGraph.ipynb --to html\n",
    "\n",
    "\n",
    "from autograph.lib.automata import AutomatonGraph\n",
    "from IPython.display import display,SVG\n",
    "import json5 as json\n",
    "\n",
    "def displayaut(ltlf,apnames):\n",
    "    \n",
    "    graph,initial_state = AutomatonGraph.from_ltlf(ltlf,apnames)\n",
    "\n",
    "    # Visualize the automaton - set current state to initial state (this highlights the initial state yellow)\n",
    "    # Acceptance state is indicated with a double circle\n",
    "    # Inside a for loop or a function, we need to use the display command (see https://stackoverflow.com/questions/30334385/display-svg-in-ipython-notebook-from-a-function)\n",
    "    #display(SVG(graph.to_image(initial_state)))\n",
    "    display(SVG(graph.to_image(initial_state)))\n",
    "\n",
    "\n",
    "\n",
    "# PARAMETERS\n",
    "\n",
    "# Config file name\n",
    "config_file = 'autograph/play/config/LiorBrett/fourTools.json'\n",
    "#config_file = 'autograph/play/config/LiorBrett/fourplayer.json'\n",
    "\n",
    "# List of agents to display (use [] to display all agents)\n",
    "agents = []\n",
    "#agents = [0]\n",
    "\n",
    "\n",
    "\n",
    "with open(config_file) as f:\n",
    "    config = json.load(f)\n",
    "\n",
    "auts: dict = config[\"automatons\"]\n",
    "\n",
    "for i,aut in enumerate(auts):\n",
    "    if not agents or i in agents:\n",
    "        ltlf = aut['spec']\n",
    "        apnames = [p['name'] for p in aut['params']]\n",
    "    \n",
    "        print('Automaton {0}'.format(i))\n",
    "        print('LTL: {0}'.format(ltlf))\n",
    "        print('APs: {0}\\n'.format(apnames))\n",
    "        \n",
    "        displayaut(ltlf,apnames)\n",
    "    \n",
    "        "
   ]
  },
  {
   "cell_type": "code",
   "execution_count": 2,
   "metadata": {
    "pycharm": {
     "is_executing": false,
     "name": "#%% A quick attempt to see if the DFA could be visualized directly - this didn't work\n"
    }
   },
   "outputs": [],
   "source": [
    "# from flloat.parser.ltlf import LTLfParser\n",
    "# \n",
    "# ltl_parser = LTLfParser()\n",
    "# \n",
    "# # Parse to DFA\n",
    "# parsed_formula = ltl_parser('GA')\n",
    "# DFA = parsed_formula.to_automaton(determinize=True)\n",
    "# SVG(DFA)\n"
   ]
  }
 ],
 "metadata": {
  "kernelspec": {
   "display_name": "Python 3",
   "language": "python",
   "name": "python3"
  },
  "language_info": {
   "codemirror_mode": {
    "name": "ipython",
    "version": 3
   },
   "file_extension": ".py",
   "mimetype": "text/x-python",
   "name": "python",
   "nbconvert_exporter": "python",
   "pygments_lexer": "ipython3",
   "version": "3.7.6-final"
  },
  "pycharm": {
   "stem_cell": {
    "cell_type": "raw",
    "metadata": {
     "collapsed": false
    },
    "source": []
   }
  }
 },
 "nbformat": 4,
 "nbformat_minor": 1
}