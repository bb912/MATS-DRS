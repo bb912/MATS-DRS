{
 "cells": [
  {
   "cell_type": "code",
   "execution_count": 97,
   "metadata": {
    "pycharm": {
     "is_executing": false
    }
   },
   "outputs": [],
   "source": [
    "import torch\n",
    "from autograph.lib.mcts_aut import AutStats, UCBAnnealedAutStats\n",
    "from autograph.lib.automata import style_agraph\n",
    "from IPython.display import SVG, display"
   ]
  },
  {
   "cell_type": "code",
   "execution_count": 98,
   "metadata": {
    "pycharm": {}
   },
   "outputs": [],
   "source": [
    "checkpoint = \"autograph/play/checkpoints/mine_big/simple_aut_no_cur_transplant_ucb_25\"\n",
    "checkpoint2 = \"autograph/play/checkpoints/simple_aut_no_cur_transplant_from\"\n",
    "data = torch.load(checkpoint, map_location=\"cpu\")\n",
    "data2 = torch.load(checkpoint2, map_location=\"cpu\")"
   ]
  },
  {
   "cell_type": "code",
   "execution_count": 99,
   "metadata": {
    "pycharm": {},
    "scrolled": false
   },
   "outputs": [],
   "source": [
    "aset = data[\"aut\"]"
   ]
  },
  {
   "cell_type": "code",
   "execution_count": 100,
   "metadata": {},
   "outputs": [
    {
     "data": {
      "text/plain": [
       "319578"
      ]
     },
     "execution_count": 100,
     "metadata": {},
     "output_type": "execute_result"
    }
   ],
   "source": [
    "data[\"train_loop\"][\"global_step\"]"
   ]
  },
  {
   "cell_type": "code",
   "execution_count": 101,
   "metadata": {},
   "outputs": [
    {
     "data": {
      "text/plain": [
       "1355"
      ]
     },
     "execution_count": 101,
     "metadata": {},
     "output_type": "execute_result"
    }
   ],
   "source": [
    "data[\"train_loop\"][\"num_rounds\"]"
   ]
  },
  {
   "cell_type": "code",
   "execution_count": 102,
   "metadata": {
    "pycharm": {}
   },
   "outputs": [],
   "source": [
    "astats = data[\"aut_stats\"]\n",
    "astats2 = data2[\"aut_stats\"]"
   ]
  },
  {
   "cell_type": "code",
   "execution_count": 103,
   "metadata": {
    "pycharm": {}
   },
   "outputs": [
    {
     "data": {
      "text/plain": [
       "\"{'n': MultiIndexArray([0, 0, 0, 338, 1343, 1236, 0, 924, 1240]), 'w': MultiIndexArray([0.0, 0.0, 0.0, 338.0, 338.0, 338.0, 0.0, 338.0, 338.0])}\""
      ]
     },
     "execution_count": 103,
     "metadata": {},
     "output_type": "execute_result"
    }
   ],
   "source": [
    "repr(astats)"
   ]
  },
  {
   "cell_type": "code",
   "execution_count": 104,
   "metadata": {},
   "outputs": [
    {
     "data": {
      "text/plain": [
       "\"{'n': MultiIndexArray([0, 0, 0, 5937, 6635, 6626, 0, 6599, 6631]), 'w': MultiIndexArray([0.0, 0.0, 0.0, 5937.0, 6501.2042004988625, 6501.071191783529, 0.0, 6497.860726085372, 6501.083146239241])}\""
      ]
     },
     "execution_count": 104,
     "metadata": {},
     "output_type": "execute_result"
    }
   ],
   "source": [
    "repr(astats2)"
   ]
  },
  {
   "cell_type": "code",
   "execution_count": 105,
   "metadata": {},
   "outputs": [],
   "source": [
    "sobj1 = AutStats(len(aset.graph.network))\n",
    "sobj1.load_state_dict(astats)\n",
    "sobj2 = AutStats(len(aset.graph.network))\n",
    "sobj2.load_state_dict(astats2)\n",
    "sobj = UCBAnnealedAutStats(sobj2, sobj1, 25)\n",
    "sobj.synchronize()"
   ]
  },
  {
   "cell_type": "code",
   "execution_count": 106,
   "metadata": {
    "scrolled": true
   },
   "outputs": [
    {
     "data": {
      "text/plain": [
       "[0.0,\n",
       " 0.0,\n",
       " 0.0,\n",
       " 1.0,\n",
       " 0.2649823619442871,\n",
       " 0.28749297516531114,\n",
       " 0.0,\n",
       " 0.3821041503002793,\n",
       " 0.2865693212031381]"
      ]
     },
     "execution_count": 106,
     "metadata": {},
     "output_type": "execute_result"
    }
   ],
   "source": [
    "[sobj.v(i) for i in sobj.indices()]"
   ]
  },
  {
   "cell_type": "code",
   "execution_count": 107,
   "metadata": {},
   "outputs": [
    {
     "data": {
      "text/plain": [
       "0.2649823619442871"
      ]
     },
     "execution_count": 107,
     "metadata": {},
     "output_type": "execute_result"
    }
   ],
   "source": [
    "sobj.baseline()"
   ]
  },
  {
   "cell_type": "code",
   "execution_count": 108,
   "metadata": {
    "scrolled": false
   },
   "outputs": [
    {
     "data": {
      "image/svg+xml": [
       "<svg height=\"262pt\" viewBox=\"0.00 0.00 188.00 262.00\" width=\"188pt\" xmlns=\"http://www.w3.org/2000/svg\" xmlns:xlink=\"http://www.w3.org/1999/xlink\">\n",
       "<g class=\"graph\" id=\"graph0\" transform=\"scale(1 1) rotate(0) translate(4 258)\">\n",
       "<title>%3</title>\n",
       "<polygon fill=\"white\" points=\"-4,4 -4,-258 184,-258 184,4 -4,4\" stroke=\"none\"/>\n",
       "<!-- 0 -->\n",
       "<g class=\"node\" id=\"node1\"><title>0</title>\n",
       "<ellipse cx=\"97\" cy=\"-228\" fill=\"none\" rx=\"22\" ry=\"22\" stroke=\"black\"/>\n",
       "<ellipse cx=\"97\" cy=\"-228\" fill=\"none\" rx=\"26\" ry=\"26\" stroke=\"black\"/>\n",
       "<text font-family=\"Times,serif\" font-size=\"14.00\" text-anchor=\"middle\" x=\"97\" y=\"-224.3\">0</text>\n",
       "</g>\n",
       "<!-- 0&#45;&gt;0 -->\n",
       "<g class=\"edge\" id=\"edge1\"><title>0-&gt;0</title>\n",
       "<path d=\"M116.76,-237.71C127.35,-239.36 137,-236.12 137,-228 137,-222.67 132.84,-219.45 126.99,-218.32\" fill=\"none\" stroke=\"black\"/>\n",
       "<polygon fill=\"black\" points=\"126.77,-214.819 116.76,-218.29 126.75,-221.819 126.77,-214.819\" stroke=\"black\"/>\n",
       "<text font-family=\"Times,serif\" font-size=\"14.00\" text-anchor=\"middle\" x=\"152.5\" y=\"-216.3\">0.000</text>\n",
       "</g>\n",
       "<!-- 1 -->\n",
       "<g class=\"node\" id=\"node2\"><title>1</title>\n",
       "<ellipse cx=\"18\" cy=\"-121\" fill=\"yellow\" rx=\"18\" ry=\"18\" stroke=\"black\"/>\n",
       "<text font-family=\"Times,serif\" font-size=\"14.00\" text-anchor=\"middle\" x=\"18\" y=\"-117.3\">1</text>\n",
       "</g>\n",
       "<!-- 0&#45;&gt;1 -->\n",
       "<g class=\"edge\" id=\"edge2\"><title>0-&gt;1</title>\n",
       "<path d=\"M75.595,-222.31C57.693,-217.16 33.184,-206.97 21,-188 13.686,-176.62 12.476,-161.71 13.297,-148.94\" fill=\"none\" stroke=\"black\"/>\n",
       "<polygon fill=\"black\" points=\"16.7928,-149.165 14.375,-138.85 9.83238,-148.422 16.7928,-149.165\" stroke=\"black\"/>\n",
       "<text font-family=\"Times,serif\" font-size=\"14.00\" text-anchor=\"middle\" x=\"36.5\" y=\"-160.8\">0.000</text>\n",
       "</g>\n",
       "<!-- 2 -->\n",
       "<g class=\"node\" id=\"node3\"><title>2</title>\n",
       "<ellipse cx=\"97\" cy=\"-18\" fill=\"none\" rx=\"18\" ry=\"18\" stroke=\"black\"/>\n",
       "<text font-family=\"Times,serif\" font-size=\"14.00\" text-anchor=\"middle\" x=\"97\" y=\"-14.3\">2</text>\n",
       "</g>\n",
       "<!-- 0&#45;&gt;2 -->\n",
       "<g class=\"edge\" id=\"edge3\"><title>0-&gt;2</title>\n",
       "<path d=\"M103.27,-206.54C104.81,-200.62 106.23,-194.1 107,-188 114.45,-128.91 115.26,-112.98 107,-54 106.59,-51.066 105.99,-48.034 105.29,-45.036\" fill=\"none\" stroke=\"black\"/>\n",
       "<polygon fill=\"black\" points=\"108.616,-43.9274 102.64,-35.179 101.856,-45.7448 108.616,-43.9274\" stroke=\"black\"/>\n",
       "<text font-family=\"Times,serif\" font-size=\"14.00\" text-anchor=\"middle\" x=\"127.5\" y=\"-109.3\">0.000</text>\n",
       "</g>\n",
       "<!-- 1&#45;&gt;0 -->\n",
       "<g class=\"edge\" id=\"edge4\"><title>1-&gt;0</title>\n",
       "<path d=\"M30.912,-134.08C37.55,-140.58 45.573,-148.91 52,-157 62.658,-170.42 73.101,-186.43 81.239,-199.76\" fill=\"none\" stroke=\"black\"/>\n",
       "<polygon fill=\"black\" points=\"78.3286,-201.712 86.48,-208.48 84.3284,-198.106 78.3286,-201.712\" stroke=\"black\"/>\n",
       "<text font-family=\"Times,serif\" font-size=\"14.00\" text-anchor=\"middle\" x=\"88.5\" y=\"-160.8\">1.000</text>\n",
       "</g>\n",
       "<!-- 1&#45;&gt;1 -->\n",
       "<g class=\"edge\" id=\"edge5\"><title>1-&gt;1</title>\n",
       "<path d=\"M33.916,-129.63C44.15,-131.89 54,-129.01 54,-121 54,-115.74 49.758,-112.7 43.949,-111.86\" fill=\"none\" stroke=\"black\"/>\n",
       "<polygon fill=\"black\" points=\"43.7254,-108.367 33.916,-112.37 44.0808,-115.358 43.7254,-108.367\" stroke=\"black\"/>\n",
       "<text font-family=\"Times,serif\" font-size=\"14.00\" text-anchor=\"middle\" x=\"69.5\" y=\"-109.3\">0.265</text>\n",
       "</g>\n",
       "<!-- 1&#45;&gt;2 -->\n",
       "<g class=\"edge\" id=\"edge6\"><title>1-&gt;2</title>\n",
       "<path d=\"M14.264,-103.33C12.034,-89.02 11.266,-68.465 21,-54 31.88,-37.832 52.228,-28.998 69.133,-24.251\" fill=\"none\" stroke=\"black\"/>\n",
       "<polygon fill=\"black\" points=\"70.2275,-27.586 79.099,-21.794 68.5519,-20.7895 70.2275,-27.586\" stroke=\"black\"/>\n",
       "<text font-family=\"Times,serif\" font-size=\"14.00\" text-anchor=\"middle\" x=\"36.5\" y=\"-57.8\">0.287</text>\n",
       "</g>\n",
       "<!-- 2&#45;&gt;0 -->\n",
       "<g class=\"edge\" id=\"edge7\"><title>2-&gt;0</title>\n",
       "<path d=\"M108.3,-32.126C120.89,-47.765 140.34,-75.278 147,-103 156.2,-141.29 141.6,-153.84 122,-188 119.58,-192.22 116.9,-196.63 114.23,-200.9\" fill=\"none\" stroke=\"black\"/>\n",
       "<polygon fill=\"black\" points=\"111.259,-199.05 108.82,-209.36 117.156,-202.821 111.259,-199.05\" stroke=\"black\"/>\n",
       "<text font-family=\"Times,serif\" font-size=\"14.00\" text-anchor=\"middle\" x=\"164.5\" y=\"-109.3\">0.000</text>\n",
       "</g>\n",
       "<!-- 2&#45;&gt;1 -->\n",
       "<g class=\"edge\" id=\"edge8\"><title>2-&gt;1</title>\n",
       "<path d=\"M88.028,-33.673C79.399,-47.399 65.682,-68.241 52,-85 47.711,-90.254 42.779,-95.645 38.026,-100.57\" fill=\"none\" stroke=\"black\"/>\n",
       "<polygon fill=\"black\" points=\"35.3681,-98.28 30.822,-107.85 40.3437,-103.204 35.3681,-98.28\" stroke=\"black\"/>\n",
       "<text font-family=\"Times,serif\" font-size=\"14.00\" text-anchor=\"middle\" x=\"89.5\" y=\"-57.8\">0.382</text>\n",
       "</g>\n",
       "<!-- 2&#45;&gt;2 -->\n",
       "<g class=\"edge\" id=\"edge9\"><title>2-&gt;2</title>\n",
       "<path d=\"M112.92,-26.633C123.15,-28.886 133,-26.008 133,-18 133,-12.745 128.76,-9.6991 122.95,-8.8625\" fill=\"none\" stroke=\"black\"/>\n",
       "<polygon fill=\"black\" points=\"122.732,-5.36896 112.92,-9.3666 123.083,-12.3601 122.732,-5.36896\" stroke=\"black\"/>\n",
       "<text font-family=\"Times,serif\" font-size=\"14.00\" text-anchor=\"middle\" x=\"148.5\" y=\"-6.3\">0.287</text>\n",
       "</g>\n",
       "</g>\n",
       "</svg>"
      ],
      "text/plain": [
       "<IPython.core.display.SVG object>"
      ]
     },
     "execution_count": 108,
     "metadata": {},
     "output_type": "execute_result"
    }
   ],
   "source": [
    "g = style_agraph(aset.graph.network, [1], False)\n",
    "for state in sobj.indices():\n",
    "    if g.has_edge(*state):\n",
    "        #if sobj.local_n[state] == 0:\n",
    "        #    g.remove_edge(state)\n",
    "        #    pass\n",
    "       # else:\n",
    "            g.get_edge(*state).attr[\"label\"] = \"\"\n",
    "            g.get_edge(*state).attr[\"label\"] += (\"\\n%.3f\" % sobj.v(state))\n",
    "            pass\n",
    "g.layout(prog=\"dot\")\n",
    "SVG(g.draw(format=\"svg\"))"
   ]
  }
 ],
 "metadata": {
  "kernelspec": {
   "display_name": "Python 3",
   "language": "python",
   "name": "python3"
  },
  "language_info": {
   "codemirror_mode": {
    "name": "ipython",
    "version": 3
   },
   "file_extension": ".py",
   "mimetype": "text/x-python",
   "name": "python",
   "nbconvert_exporter": "python",
   "pygments_lexer": "ipython3",
   "version": "3.6.8"
  }
 },
 "nbformat": 4,
 "nbformat_minor": 2
}
