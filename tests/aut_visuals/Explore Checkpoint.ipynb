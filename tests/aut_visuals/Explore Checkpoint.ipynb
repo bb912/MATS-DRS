{
 "cells": [
  {
   "cell_type": "code",
   "execution_count": 3,
   "metadata": {
    "pycharm": {},
    "scrolled": false
   },
   "outputs": [],
   "source": [
    "aset = data[\"aut\"]"
   ]
  },
  {
   "cell_type": "code",
   "execution_count": 1,
   "metadata": {
    "pycharm": {
     "is_executing": false
    }
   },
   "outputs": [],
   "source": [
    "import torch\n",
    "from autograph.lib.mcts_aut import AutStats\n",
    "from autograph.lib.automata import style_agraph\n",
    "from IPython.display import SVG, display"
   ]
  },
  {
   "cell_type": "code",
   "execution_count": 2,
   "metadata": {
    "pycharm": {}
   },
   "outputs": [
    {
     "ename": "FileNotFoundError",
     "evalue": "[Errno 2] No such file or directory: 'autograph/play/checkpoints/mine_woodfactory/mcts_simple_aut_endrew_mazenet'",
     "output_type": "error",
     "traceback": [
      "\u001b[0;31m---------------------------------------------------------------------------\u001b[0m",
      "\u001b[0;31mFileNotFoundError\u001b[0m                         Traceback (most recent call last)",
      "\u001b[0;32m<ipython-input-2-a7c9c61ae39f>\u001b[0m in \u001b[0;36m<module>\u001b[0;34m\u001b[0m\n\u001b[1;32m      1\u001b[0m \u001b[0mcheckpoint\u001b[0m \u001b[0;34m=\u001b[0m \u001b[0;34m\"autograph/play/checkpoints/mine_woodfactory/mcts_simple_aut_endrew_mazenet\"\u001b[0m\u001b[0;34m\u001b[0m\u001b[0;34m\u001b[0m\u001b[0m\n\u001b[0;32m----> 2\u001b[0;31m \u001b[0mdata\u001b[0m \u001b[0;34m=\u001b[0m \u001b[0mtorch\u001b[0m\u001b[0;34m.\u001b[0m\u001b[0mload\u001b[0m\u001b[0;34m(\u001b[0m\u001b[0mcheckpoint\u001b[0m\u001b[0;34m,\u001b[0m \u001b[0mmap_location\u001b[0m\u001b[0;34m=\u001b[0m\u001b[0;34m\"cpu\"\u001b[0m\u001b[0;34m)\u001b[0m\u001b[0;34m\u001b[0m\u001b[0;34m\u001b[0m\u001b[0m\n\u001b[0m",
      "\u001b[0;32m~/anaconda3/envs/drl_env/lib/python3.7/site-packages/torch/serialization.py\u001b[0m in \u001b[0;36mload\u001b[0;34m(f, map_location, pickle_module, **pickle_load_args)\u001b[0m\n\u001b[1;32m    379\u001b[0m             \u001b[0;34m(\u001b[0m\u001b[0msys\u001b[0m\u001b[0;34m.\u001b[0m\u001b[0mversion_info\u001b[0m\u001b[0;34m[\u001b[0m\u001b[0;36m0\u001b[0m\u001b[0;34m]\u001b[0m \u001b[0;34m==\u001b[0m \u001b[0;36m2\u001b[0m \u001b[0;32mand\u001b[0m \u001b[0misinstance\u001b[0m\u001b[0;34m(\u001b[0m\u001b[0mf\u001b[0m\u001b[0;34m,\u001b[0m \u001b[0municode\u001b[0m\u001b[0;34m)\u001b[0m\u001b[0;34m)\u001b[0m\u001b[0;34m:\u001b[0m\u001b[0;34m\u001b[0m\u001b[0;34m\u001b[0m\u001b[0m\n\u001b[1;32m    380\u001b[0m         \u001b[0mnew_fd\u001b[0m \u001b[0;34m=\u001b[0m \u001b[0;32mTrue\u001b[0m\u001b[0;34m\u001b[0m\u001b[0;34m\u001b[0m\u001b[0m\n\u001b[0;32m--> 381\u001b[0;31m         \u001b[0mf\u001b[0m \u001b[0;34m=\u001b[0m \u001b[0mopen\u001b[0m\u001b[0;34m(\u001b[0m\u001b[0mf\u001b[0m\u001b[0;34m,\u001b[0m \u001b[0;34m'rb'\u001b[0m\u001b[0;34m)\u001b[0m\u001b[0;34m\u001b[0m\u001b[0;34m\u001b[0m\u001b[0m\n\u001b[0m\u001b[1;32m    382\u001b[0m     \u001b[0;32melif\u001b[0m \u001b[0;34m(\u001b[0m\u001b[0msys\u001b[0m\u001b[0;34m.\u001b[0m\u001b[0mversion_info\u001b[0m\u001b[0;34m[\u001b[0m\u001b[0;36m0\u001b[0m\u001b[0;34m]\u001b[0m \u001b[0;34m==\u001b[0m \u001b[0;36m3\u001b[0m \u001b[0;32mand\u001b[0m \u001b[0misinstance\u001b[0m\u001b[0;34m(\u001b[0m\u001b[0mf\u001b[0m\u001b[0;34m,\u001b[0m \u001b[0mpathlib\u001b[0m\u001b[0;34m.\u001b[0m\u001b[0mPath\u001b[0m\u001b[0;34m)\u001b[0m\u001b[0;34m)\u001b[0m\u001b[0;34m:\u001b[0m\u001b[0;34m\u001b[0m\u001b[0;34m\u001b[0m\u001b[0m\n\u001b[1;32m    383\u001b[0m         \u001b[0mnew_fd\u001b[0m \u001b[0;34m=\u001b[0m \u001b[0;32mTrue\u001b[0m\u001b[0;34m\u001b[0m\u001b[0;34m\u001b[0m\u001b[0m\n",
      "\u001b[0;31mFileNotFoundError\u001b[0m: [Errno 2] No such file or directory: 'autograph/play/checkpoints/mine_woodfactory/mcts_simple_aut_endrew_mazenet'"
     ]
    }
   ],
   "source": [
    "checkpoint = \"autograph/play/checkpoints/mine_woodfactory/mcts_simple_aut_endrew_mazenet\"\n",
    "data = torch.load(checkpoint, map_location=\"cpu\")"
   ]
  },
  {
   "cell_type": "code",
   "execution_count": 4,
   "metadata": {
    "pycharm": {}
   },
   "outputs": [],
   "source": [
    "astats = data[\"aut_stats\"]"
   ]
  },
  {
   "cell_type": "code",
   "execution_count": 5,
   "metadata": {
    "pycharm": {}
   },
   "outputs": [
    {
     "data": {
      "text/plain": [
       "\"{'n': [1190, 868, 1096, 839], 'w': [839.0, 826.0, 839.0, 839.0]}\""
      ]
     },
     "execution_count": 5,
     "metadata": {},
     "output_type": "execute_result"
    }
   ],
   "source": [
    "repr(astats)"
   ]
  },
  {
   "cell_type": "code",
   "execution_count": 6,
   "metadata": {},
   "outputs": [],
   "source": [
    "sobj = AutStats(len(aset.graph.network))\n",
    "sobj.load_state_dict(astats)"
   ]
  },
  {
   "cell_type": "code",
   "execution_count": 7,
   "metadata": {
    "scrolled": true
   },
   "outputs": [
    {
     "data": {
      "text/plain": [
       "[0.7050420168067227, 0.9516129032258065, 0.7655109489051095, 1.0]"
      ]
     },
     "execution_count": 7,
     "metadata": {},
     "output_type": "execute_result"
    }
   ],
   "source": [
    "[sobj.v(i) for i in range(len(aset.graph.network))]"
   ]
  },
  {
   "cell_type": "code",
   "execution_count": 8,
   "metadata": {},
   "outputs": [
    {
     "data": {
      "text/plain": [
       "0.7050420168067227"
      ]
     },
     "execution_count": 8,
     "metadata": {},
     "output_type": "execute_result"
    }
   ],
   "source": [
    "sobj.baseline()"
   ]
  },
  {
   "cell_type": "code",
   "execution_count": 9,
   "metadata": {
    "scrolled": false
   },
   "outputs": [
    {
     "data": {
      "image/svg+xml": [
       "<svg height=\"652pt\" viewBox=\"0.00 0.00 767.68 651.69\" width=\"768pt\" xmlns=\"http://www.w3.org/2000/svg\" xmlns:xlink=\"http://www.w3.org/1999/xlink\">\n",
       "<g class=\"graph\" id=\"graph0\" transform=\"scale(1 1) rotate(0) translate(9.5992 643.88)\">\n",
       "<title>%3</title>\n",
       "<polygon fill=\"white\" points=\"-9.5992,7.81 -9.5992,-643.88 758.08,-643.88 758.08,7.81 -9.5992,7.81\" stroke=\"none\"/>\n",
       "<!-- 0 -->\n",
       "<g class=\"node\" id=\"node1\"><title>0</title>\n",
       "<ellipse cx=\"373.08\" cy=\"-518.8\" fill=\"yellow\" rx=\"48.1667\" ry=\"48.1667\" stroke=\"black\"/>\n",
       "<text font-family=\"Times,serif\" font-size=\"14.00\" text-anchor=\"middle\" x=\"373.08\" y=\"-537.6\">0</text>\n",
       "<text font-family=\"Times,serif\" font-size=\"14.00\" text-anchor=\"middle\" x=\"373.08\" y=\"-522.6\">839</text>\n",
       "<text font-family=\"Times,serif\" font-size=\"14.00\" text-anchor=\"middle\" x=\"373.08\" y=\"-507.6\">1190</text>\n",
       "<text font-family=\"Times,serif\" font-size=\"14.00\" text-anchor=\"middle\" x=\"373.08\" y=\"-492.6\">0.705</text>\n",
       "</g>\n",
       "<!-- 0&#45;&gt;0 -->\n",
       "<g class=\"edge\" id=\"edge1\"><title>0-&gt;0</title>\n",
       "<path d=\"M419.71,-530.95C430.88,-530 439.17,-525.95 439.17,-518.8 439.17,-513.99 435.43,-510.58 429.58,-508.58\" fill=\"none\" stroke=\"black\"/>\n",
       "<polygon fill=\"black\" points=\"430.197,-505.134 419.71,-506.64 428.847,-512.003 430.197,-505.134\" stroke=\"black\"/>\n",
       "<text font-family=\"Times,serif\" font-size=\"14.00\" text-anchor=\"middle\" x=\"501.17\" y=\"-515.1\"> {('X', 'X', 'X', False)} </text>\n",
       "</g>\n",
       "<!-- 1 -->\n",
       "<g class=\"node\" id=\"node2\"><title>1</title>\n",
       "<ellipse cx=\"48.083\" cy=\"-224.46\" fill=\"none\" rx=\"48.1667\" ry=\"48.1667\" stroke=\"black\"/>\n",
       "<text font-family=\"Times,serif\" font-size=\"14.00\" text-anchor=\"middle\" x=\"48.083\" y=\"-243.26\">1</text>\n",
       "<text font-family=\"Times,serif\" font-size=\"14.00\" text-anchor=\"middle\" x=\"48.083\" y=\"-228.26\">826</text>\n",
       "<text font-family=\"Times,serif\" font-size=\"14.00\" text-anchor=\"middle\" x=\"48.083\" y=\"-213.26\">868</text>\n",
       "<text font-family=\"Times,serif\" font-size=\"14.00\" text-anchor=\"middle\" x=\"48.083\" y=\"-198.26\">0.952</text>\n",
       "</g>\n",
       "<!-- 0&#45;&gt;1 -->\n",
       "<g class=\"edge\" id=\"edge2\"><title>0-&gt;1</title>\n",
       "<path d=\"M325.53,-511.48C239.02,-498.91 61.457,-467.76 25.083,-419.71 -5.5992,-379.19 7.4603,-319.65 23.6,-277.18\" fill=\"none\" stroke=\"black\"/>\n",
       "<polygon fill=\"black\" points=\"26.867,-278.436 27.297,-267.85 20.3593,-275.857 26.867,-278.436\" stroke=\"black\"/>\n",
       "<text font-family=\"Times,serif\" font-size=\"14.00\" text-anchor=\"middle\" x=\"170.58\" y=\"-367.93\"> {(False, 'X', True, True), (True, False, True, True)} </text>\n",
       "</g>\n",
       "<!-- 2 -->\n",
       "<g class=\"node\" id=\"node3\"><title>2</title>\n",
       "<ellipse cx=\"373.08\" cy=\"-371.63\" fill=\"none\" rx=\"48.1667\" ry=\"48.1667\" stroke=\"black\"/>\n",
       "<text font-family=\"Times,serif\" font-size=\"14.00\" text-anchor=\"middle\" x=\"373.08\" y=\"-390.43\">2</text>\n",
       "<text font-family=\"Times,serif\" font-size=\"14.00\" text-anchor=\"middle\" x=\"373.08\" y=\"-375.43\">839</text>\n",
       "<text font-family=\"Times,serif\" font-size=\"14.00\" text-anchor=\"middle\" x=\"373.08\" y=\"-360.43\">1096</text>\n",
       "<text font-family=\"Times,serif\" font-size=\"14.00\" text-anchor=\"middle\" x=\"373.08\" y=\"-345.43\">0.766</text>\n",
       "</g>\n",
       "<!-- 0&#45;&gt;2 -->\n",
       "<g class=\"edge\" id=\"edge3\"><title>0-&gt;2</title>\n",
       "<path d=\"M373.08,-470.66C373.08,-457.73 373.08,-443.57 373.08,-430.13\" fill=\"none\" stroke=\"black\"/>\n",
       "<polygon fill=\"black\" points=\"376.58,-430.02 373.08,-420.02 369.58,-430.02 376.58,-430.02\" stroke=\"black\"/>\n",
       "<text font-family=\"Times,serif\" font-size=\"14.00\" text-anchor=\"middle\" x=\"441.08\" y=\"-441.51\"> {('X', 'X', False, True)} </text>\n",
       "</g>\n",
       "<!-- 3 -->\n",
       "<g class=\"node\" id=\"node4\"><title>3</title>\n",
       "<ellipse cx=\"396.08\" cy=\"-62.69\" fill=\"none\" rx=\"62.5\" ry=\"62.5\" stroke=\"black\"/>\n",
       "<ellipse cx=\"396.08\" cy=\"-62.69\" fill=\"none\" rx=\"66.5\" ry=\"66.5\" stroke=\"black\"/>\n",
       "<text font-family=\"Times,serif\" font-size=\"14.00\" text-anchor=\"middle\" x=\"396.08\" y=\"-88.99\">3</text>\n",
       "<text font-family=\"Times,serif\" font-size=\"14.00\" text-anchor=\"middle\" x=\"396.08\" y=\"-73.99\">{0}</text>\n",
       "<text font-family=\"Times,serif\" font-size=\"14.00\" text-anchor=\"middle\" x=\"396.08\" y=\"-58.99\">839</text>\n",
       "<text font-family=\"Times,serif\" font-size=\"14.00\" text-anchor=\"middle\" x=\"396.08\" y=\"-43.99\">839</text>\n",
       "<text font-family=\"Times,serif\" font-size=\"14.00\" text-anchor=\"middle\" x=\"396.08\" y=\"-28.99\">1.000</text>\n",
       "</g>\n",
       "<!-- 0&#45;&gt;3 -->\n",
       "<g class=\"edge\" id=\"edge4\"><title>0-&gt;3</title>\n",
       "<path d=\"M420.66,-509.71C468.77,-498.67 540.42,-473.7 572.08,-419.71 627.29,-325.57 597.24,-268.73 539.08,-176.38 519.39,-145.11 487.86,-118.9 459.42,-99.648\" fill=\"none\" stroke=\"black\"/>\n",
       "<polygon fill=\"black\" points=\"460.975,-96.4812 450.7,-93.899 457.122,-102.325 460.975,-96.4812\" stroke=\"black\"/>\n",
       "<text font-family=\"Times,serif\" font-size=\"14.00\" text-anchor=\"middle\" x=\"676.58\" y=\"-294.35\"> {(True, True, True, True)} </text>\n",
       "</g>\n",
       "<!-- 1&#45;&gt;1 -->\n",
       "<g class=\"edge\" id=\"edge5\"><title>1-&gt;1</title>\n",
       "<path d=\"M94.403,-237.75C105.73,-236.77 114.17,-232.34 114.17,-224.46 114.17,-219.17 110.36,-215.44 104.43,-213.26\" fill=\"none\" stroke=\"black\"/>\n",
       "<polygon fill=\"black\" points=\"104.907,-209.784 94.403,-211.17 103.478,-216.637 104.907,-209.784\" stroke=\"black\"/>\n",
       "<text font-family=\"Times,serif\" font-size=\"14.00\" text-anchor=\"middle\" x=\"237.17\" y=\"-220.76\"> {(True, False, 'X', 'X'), (False, 'X', 'X', 'X')} </text>\n",
       "</g>\n",
       "<!-- 1&#45;&gt;3 -->\n",
       "<g class=\"edge\" id=\"edge6\"><title>1-&gt;3</title>\n",
       "<path d=\"M91.454,-203.55C151.44,-176.01 260.23,-126.06 330.27,-93.908\" fill=\"none\" stroke=\"black\"/>\n",
       "<polygon fill=\"black\" points=\"331.833,-97.0418 339.46,-89.688 328.912,-90.6804 331.833,-97.0418\" stroke=\"black\"/>\n",
       "<text font-family=\"Times,serif\" font-size=\"14.00\" text-anchor=\"middle\" x=\"288.58\" y=\"-147.18\"> {(True, True, 'X', 'X')} </text>\n",
       "</g>\n",
       "<!-- 2&#45;&gt;1 -->\n",
       "<g class=\"edge\" id=\"edge7\"><title>2-&gt;1</title>\n",
       "<path d=\"M337.77,-338.56C329.52,-332.63 320.41,-327.17 311.08,-323.55 229.12,-291.73 191.81,-346.64 114.08,-305.55 100.23,-298.22 88.178,-286.64 78.295,-274.53\" fill=\"none\" stroke=\"black\"/>\n",
       "<polygon fill=\"black\" points=\"80.9998,-272.306 72.118,-266.53 75.4592,-276.584 80.9998,-272.306\" stroke=\"black\"/>\n",
       "<text font-family=\"Times,serif\" font-size=\"14.00\" text-anchor=\"middle\" x=\"248.08\" y=\"-294.35\"> {(False, 'X', True, 'X'), (True, False, True, 'X')} </text>\n",
       "</g>\n",
       "<!-- 2&#45;&gt;2 -->\n",
       "<g class=\"edge\" id=\"edge8\"><title>2-&gt;2</title>\n",
       "<path d=\"M419.4,-384.92C430.73,-383.93 439.17,-379.5 439.17,-371.63 439.17,-366.34 435.36,-362.6 429.43,-360.42\" fill=\"none\" stroke=\"black\"/>\n",
       "<polygon fill=\"black\" points=\"429.902,-356.944 419.4,-358.34 428.481,-363.798 429.902,-356.944\" stroke=\"black\"/>\n",
       "<text font-family=\"Times,serif\" font-size=\"14.00\" text-anchor=\"middle\" x=\"501.17\" y=\"-367.93\"> {('X', 'X', False, 'X')} </text>\n",
       "</g>\n",
       "<!-- 2&#45;&gt;3 -->\n",
       "<g class=\"edge\" id=\"edge9\"><title>2-&gt;3</title>\n",
       "<path d=\"M380.02,-323.76C380.79,-317.64 381.51,-311.45 382.08,-305.55 387.67,-248.49 391.28,-183.63 393.43,-135.45\" fill=\"none\" stroke=\"black\"/>\n",
       "<polygon fill=\"black\" points=\"396.928,-135.574 393.87,-125.43 389.935,-135.267 396.928,-135.574\" stroke=\"black\"/>\n",
       "<text font-family=\"Times,serif\" font-size=\"14.00\" text-anchor=\"middle\" x=\"463.08\" y=\"-220.76\"> {(True, True, True, 'X')} </text>\n",
       "</g>\n",
       "<!-- 3&#45;&gt;3 -->\n",
       "<g class=\"edge\" id=\"edge10\"><title>3-&gt;3</title>\n",
       "<path d=\"M456.96,-78.4C468.56,-76.52 476.77,-71.284 476.77,-62.69 476.77,-56.782 472.89,-52.46 466.7,-49.725\" fill=\"none\" stroke=\"black\"/>\n",
       "<polygon fill=\"black\" points=\"467.535,-46.3239 456.96,-46.979 465.635,-53.0613 467.535,-46.3239\" stroke=\"black\"/>\n",
       "<text font-family=\"Times,serif\" font-size=\"14.00\" text-anchor=\"middle\" x=\"531.77\" y=\"-58.99\"> {('X', 'X', 'X', 'X')} </text>\n",
       "</g>\n",
       "<!-- start -->\n",
       "<!-- start&#45;&gt;0 -->\n",
       "<g class=\"edge\" id=\"edge11\"><title>start-&gt;0</title>\n",
       "<path d=\"M373.08,-603.73C373.08,-596.21 373.08,-586.89 373.08,-577.24\" fill=\"none\" stroke=\"black\"/>\n",
       "<polygon fill=\"black\" points=\"376.58,-577.11 373.08,-567.11 369.58,-577.11 376.58,-577.11\" stroke=\"black\"/>\n",
       "</g>\n",
       "</g>\n",
       "</svg>"
      ],
      "text/plain": [
       "<IPython.core.display.SVG object>"
      ]
     },
     "execution_count": 9,
     "metadata": {},
     "output_type": "execute_result"
    }
   ],
   "source": [
    "g = style_agraph(aset.graph.network, [0], False)\n",
    "for state in aset.graph.network:\n",
    "    g.get_node(state).attr[\"label\"] += (\"\\n%i\\n%i\\n%.3f\" % (sobj.local_w[state], sobj.local_n[state], sobj.v(state)))\n",
    "g.layout(prog=\"dot\")\n",
    "SVG(g.draw(format=\"svg\"))"
   ]
  }
 ],
 "metadata": {
  "kernelspec": {
   "display_name": "Python 3",
   "language": "python",
   "name": "python3"
  },
  "language_info": {
   "codemirror_mode": {
    "name": "ipython",
    "version": 3
   },
   "file_extension": ".py",
   "mimetype": "text/x-python",
   "name": "python",
   "nbconvert_exporter": "python",
   "pygments_lexer": "ipython3",
   "version": "3.7.4"
  }
 },
 "nbformat": 4,
 "nbformat_minor": 2
}
