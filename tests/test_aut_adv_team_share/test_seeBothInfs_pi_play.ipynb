{
 "cells": [
  {
   "cell_type": "code",
   "execution_count": 1,
   "metadata": {
    "pycharm": {
     "name": "#%%\n"
    }
   },
   "outputs": [
    {
     "ename": "FileNotFoundError",
     "evalue": "[Errno 2] No such file or directory: '/media/sf_LOCAL_DRIVE/checkpoints/Brett/seeBoth501_inf'",
     "output_type": "error",
     "traceback": [
      "\u001B[0;31m---------------------------------------------------------------------------\u001B[0m",
      "\u001B[0;31mFileNotFoundError\u001B[0m                         Traceback (most recent call last)",
      "\u001B[0;32m<ipython-input-1-45fe31fb15ac>\u001B[0m in \u001B[0;36m<module>\u001B[0;34m\u001B[0m\n\u001B[1;32m     16\u001B[0m \u001B[0;34m\u001B[0m\u001B[0m\n\u001B[1;32m     17\u001B[0m \u001B[0;34m\u001B[0m\u001B[0m\n\u001B[0;32m---> 18\u001B[0;31m \u001B[0menvs\u001B[0m\u001B[0;34m,\u001B[0m \u001B[0mget_pi_cnn\u001B[0m\u001B[0;34m,\u001B[0m \u001B[0mdo_mcts_batch\u001B[0m\u001B[0;34m,\u001B[0m \u001B[0mget_tree_and_play_policies\u001B[0m \u001B[0;34m=\u001B[0m \u001B[0minit_game\u001B[0m\u001B[0;34m(\u001B[0m\u001B[0mconfig_file\u001B[0m\u001B[0;34m,\u001B[0m \u001B[0mcheckpoint_base_path\u001B[0m\u001B[0;34m,\u001B[0m\u001B[0mrun_name\u001B[0m\u001B[0;34m,\u001B[0m\u001B[0mpostfix\u001B[0m\u001B[0;34m,\u001B[0m \u001B[0;34m\"cpu\"\u001B[0m\u001B[0;34m)\u001B[0m\u001B[0;34m\u001B[0m\u001B[0;34m\u001B[0m\u001B[0m\n\u001B[0m\u001B[1;32m     19\u001B[0m \u001B[0;34m\u001B[0m\u001B[0m\n\u001B[1;32m     20\u001B[0m \u001B[0;31m# Do 20 play steps\u001B[0m\u001B[0;34m\u001B[0m\u001B[0;34m\u001B[0m\u001B[0;34m\u001B[0m\u001B[0m\n",
      "\u001B[0;32m~/PycharmProjects/vgcharm/autograph/play/maze_nn_aut_adv_team_share.py\u001B[0m in \u001B[0;36minit_game\u001B[0;34m(config_file, checkpoint_base_path, run_name, postfix, device, partial)\u001B[0m\n\u001B[1;32m    910\u001B[0m         \u001B[0mCHECKPOINT_PATHS\u001B[0m \u001B[0;34m=\u001B[0m \u001B[0;34m[\u001B[0m\u001B[0;32mNone\u001B[0m\u001B[0;34m]\u001B[0m \u001B[0;34m*\u001B[0m \u001B[0mNUM_TEAMS\u001B[0m\u001B[0;34m\u001B[0m\u001B[0;34m\u001B[0m\u001B[0m\n\u001B[1;32m    911\u001B[0m         \u001B[0mLoadCheckpoint\u001B[0m \u001B[0;34m=\u001B[0m \u001B[0;32mFalse\u001B[0m\u001B[0;34m\u001B[0m\u001B[0;34m\u001B[0m\u001B[0m\n\u001B[0;32m--> 912\u001B[0;31m     \u001B[0mcmans\u001B[0m \u001B[0;34m=\u001B[0m \u001B[0minit_checkpoints\u001B[0m\u001B[0;34m(\u001B[0m\u001B[0mCHECKPOINT_PATHS\u001B[0m\u001B[0;34m,\u001B[0m \u001B[0mLoadCheckpoint\u001B[0m\u001B[0;34m,\u001B[0m \u001B[0;32mFalse\u001B[0m\u001B[0;34m,\u001B[0m \u001B[0;34m\"cpu\"\u001B[0m\u001B[0;34m)\u001B[0m\u001B[0;34m\u001B[0m\u001B[0;34m\u001B[0m\u001B[0m\n\u001B[0m\u001B[1;32m    913\u001B[0m     \u001B[0mauts\u001B[0m\u001B[0;34m,\u001B[0m \u001B[0maut_stats_list\u001B[0m \u001B[0;34m=\u001B[0m \u001B[0minit_auts\u001B[0m\u001B[0;34m(\u001B[0m\u001B[0mcmans\u001B[0m\u001B[0;34m,\u001B[0m \u001B[0mLTLF_SPECS\u001B[0m\u001B[0;34m,\u001B[0m \u001B[0mAUT_PARAM_NAMES\u001B[0m\u001B[0;34m,\u001B[0m \u001B[0mAUT_STATS_PARAMS\u001B[0m\u001B[0;34m)\u001B[0m\u001B[0;34m\u001B[0m\u001B[0;34m\u001B[0m\u001B[0m\n\u001B[1;32m    914\u001B[0m     \u001B[0morig_envs\u001B[0m\u001B[0;34m,\u001B[0m \u001B[0menvs\u001B[0m \u001B[0;34m=\u001B[0m \u001B[0minit_env\u001B[0m\u001B[0;34m(\u001B[0m\u001B[0mauts\u001B[0m\u001B[0;34m,\u001B[0m \u001B[0mENV_TYPE\u001B[0m\u001B[0;34m,\u001B[0m \u001B[0mENV_CONFIG\u001B[0m\u001B[0;34m,\u001B[0m \u001B[0mAUT_PARAM_FUNCS\u001B[0m\u001B[0;34m,\u001B[0m \u001B[0mAUT_OTHER_PARAMS\u001B[0m\u001B[0;34m)\u001B[0m\u001B[0;34m\u001B[0m\u001B[0;34m\u001B[0m\u001B[0m\n",
      "\u001B[0;32m~/PycharmProjects/vgcharm/autograph/play/maze_nn_aut_adv_team_share.py\u001B[0m in \u001B[0;36minit_checkpoints\u001B[0;34m(CHECKPOINT_PATHS, LOAD_FROM_CHECKPOINT, SAVE_CHECKPOINTS, DEVICE, TRANSPLANTS, OLD_TRANSPLANTS, TRANSPLANT_FROM_LIST)\u001B[0m\n\u001B[1;32m    281\u001B[0m \u001B[0;34m\u001B[0m\u001B[0m\n\u001B[1;32m    282\u001B[0m         cmans = list(CheckpointManager(CHECKPOINT_PATH, LOAD_FROM_CHECKPOINT, SAVE_CHECKPOINTS, device=DEVICE)\n\u001B[0;32m--> 283\u001B[0;31m                      for CHECKPOINT_PATH in CHECKPOINT_PATHS)\n\u001B[0m\u001B[1;32m    284\u001B[0m \u001B[0;34m\u001B[0m\u001B[0m\n\u001B[1;32m    285\u001B[0m     \u001B[0;32mexcept\u001B[0m \u001B[0mEOFError\u001B[0m\u001B[0;34m:\u001B[0m\u001B[0;34m\u001B[0m\u001B[0;34m\u001B[0m\u001B[0m\n",
      "\u001B[0;32m~/PycharmProjects/vgcharm/autograph/play/maze_nn_aut_adv_team_share.py\u001B[0m in \u001B[0;36m<genexpr>\u001B[0;34m(.0)\u001B[0m\n\u001B[1;32m    281\u001B[0m \u001B[0;34m\u001B[0m\u001B[0m\n\u001B[1;32m    282\u001B[0m         cmans = list(CheckpointManager(CHECKPOINT_PATH, LOAD_FROM_CHECKPOINT, SAVE_CHECKPOINTS, device=DEVICE)\n\u001B[0;32m--> 283\u001B[0;31m                      for CHECKPOINT_PATH in CHECKPOINT_PATHS)\n\u001B[0m\u001B[1;32m    284\u001B[0m \u001B[0;34m\u001B[0m\u001B[0m\n\u001B[1;32m    285\u001B[0m     \u001B[0;32mexcept\u001B[0m \u001B[0mEOFError\u001B[0m\u001B[0;34m:\u001B[0m\u001B[0;34m\u001B[0m\u001B[0;34m\u001B[0m\u001B[0m\n",
      "\u001B[0;32m~/PycharmProjects/vgcharm/autograph/lib/util/checkpoint_manager.py\u001B[0m in \u001B[0;36m__init__\u001B[0;34m(self, path, load_checkpoint, save_checkpoint, device)\u001B[0m\n\u001B[1;32m     94\u001B[0m \u001B[0;34m\u001B[0m\u001B[0m\n\u001B[1;32m     95\u001B[0m         \u001B[0;32mif\u001B[0m \u001B[0mself\u001B[0m\u001B[0;34m.\u001B[0m\u001B[0mload_checkpoint\u001B[0m\u001B[0;34m:\u001B[0m\u001B[0;34m\u001B[0m\u001B[0;34m\u001B[0m\u001B[0m\n\u001B[0;32m---> 96\u001B[0;31m             \u001B[0mself\u001B[0m\u001B[0;34m.\u001B[0m\u001B[0mcheckpoint\u001B[0m \u001B[0;34m=\u001B[0m \u001B[0mtorch\u001B[0m\u001B[0;34m.\u001B[0m\u001B[0mload\u001B[0m\u001B[0;34m(\u001B[0m\u001B[0mpath\u001B[0m\u001B[0;34m,\u001B[0m \u001B[0mmap_location\u001B[0m\u001B[0;34m=\u001B[0m\u001B[0mdevice\u001B[0m\u001B[0;34m)\u001B[0m\u001B[0;34m\u001B[0m\u001B[0;34m\u001B[0m\u001B[0m\n\u001B[0m\u001B[1;32m     97\u001B[0m \u001B[0;34m\u001B[0m\u001B[0m\n\u001B[1;32m     98\u001B[0m     \u001B[0;32mdef\u001B[0m \u001B[0mload\u001B[0m\u001B[0;34m(\u001B[0m\u001B[0mself\u001B[0m\u001B[0;34m,\u001B[0m \u001B[0mname\u001B[0m\u001B[0;34m:\u001B[0m \u001B[0mstr\u001B[0m\u001B[0;34m,\u001B[0m \u001B[0minstance\u001B[0m\u001B[0;34m:\u001B[0m \u001B[0mT\u001B[0m\u001B[0;34m,\u001B[0m \u001B[0mhandler\u001B[0m\u001B[0;34m:\u001B[0m \u001B[0mSaveLoadHandler\u001B[0m\u001B[0;34m[\u001B[0m\u001B[0mT\u001B[0m\u001B[0;34m,\u001B[0m \u001B[0mS\u001B[0m\u001B[0;34m]\u001B[0m\u001B[0;34m)\u001B[0m \u001B[0;34m->\u001B[0m \u001B[0mT\u001B[0m\u001B[0;34m:\u001B[0m\u001B[0;34m\u001B[0m\u001B[0;34m\u001B[0m\u001B[0m\n",
      "\u001B[0;32m~/anaconda3/envs/vgcharm/lib/python3.7/site-packages/torch/serialization.py\u001B[0m in \u001B[0;36mload\u001B[0;34m(f, map_location, pickle_module, **pickle_load_args)\u001B[0m\n\u001B[1;32m    379\u001B[0m             \u001B[0;34m(\u001B[0m\u001B[0msys\u001B[0m\u001B[0;34m.\u001B[0m\u001B[0mversion_info\u001B[0m\u001B[0;34m[\u001B[0m\u001B[0;36m0\u001B[0m\u001B[0;34m]\u001B[0m \u001B[0;34m==\u001B[0m \u001B[0;36m2\u001B[0m \u001B[0;32mand\u001B[0m \u001B[0misinstance\u001B[0m\u001B[0;34m(\u001B[0m\u001B[0mf\u001B[0m\u001B[0;34m,\u001B[0m \u001B[0municode\u001B[0m\u001B[0;34m)\u001B[0m\u001B[0;34m)\u001B[0m\u001B[0;34m:\u001B[0m\u001B[0;34m\u001B[0m\u001B[0;34m\u001B[0m\u001B[0m\n\u001B[1;32m    380\u001B[0m         \u001B[0mnew_fd\u001B[0m \u001B[0;34m=\u001B[0m \u001B[0;32mTrue\u001B[0m\u001B[0;34m\u001B[0m\u001B[0;34m\u001B[0m\u001B[0m\n\u001B[0;32m--> 381\u001B[0;31m         \u001B[0mf\u001B[0m \u001B[0;34m=\u001B[0m \u001B[0mopen\u001B[0m\u001B[0;34m(\u001B[0m\u001B[0mf\u001B[0m\u001B[0;34m,\u001B[0m \u001B[0;34m'rb'\u001B[0m\u001B[0;34m)\u001B[0m\u001B[0;34m\u001B[0m\u001B[0;34m\u001B[0m\u001B[0m\n\u001B[0m\u001B[1;32m    382\u001B[0m     \u001B[0;32melif\u001B[0m \u001B[0;34m(\u001B[0m\u001B[0msys\u001B[0m\u001B[0;34m.\u001B[0m\u001B[0mversion_info\u001B[0m\u001B[0;34m[\u001B[0m\u001B[0;36m0\u001B[0m\u001B[0;34m]\u001B[0m \u001B[0;34m==\u001B[0m \u001B[0;36m3\u001B[0m \u001B[0;32mand\u001B[0m \u001B[0misinstance\u001B[0m\u001B[0;34m(\u001B[0m\u001B[0mf\u001B[0m\u001B[0;34m,\u001B[0m \u001B[0mpathlib\u001B[0m\u001B[0;34m.\u001B[0m\u001B[0mPath\u001B[0m\u001B[0;34m)\u001B[0m\u001B[0;34m)\u001B[0m\u001B[0;34m:\u001B[0m\u001B[0;34m\u001B[0m\u001B[0;34m\u001B[0m\u001B[0m\n\u001B[1;32m    383\u001B[0m         \u001B[0mnew_fd\u001B[0m \u001B[0;34m=\u001B[0m \u001B[0;32mTrue\u001B[0m\u001B[0;34m\u001B[0m\u001B[0;34m\u001B[0m\u001B[0m\n",
      "\u001B[0;31mFileNotFoundError\u001B[0m: [Errno 2] No such file or directory: '/media/sf_LOCAL_DRIVE/checkpoints/Brett/seeBoth501_inf'"
     ]
    }
   ],
   "source": [
    "\n",
    "from autograph.play.maze_nn_aut_adv_team_share import init_game\n",
    "from autograph.lib.util.test_helper_team import doenvsteps, get_and_plot_policies, plot_policies, figsize\n",
    "\n",
    "#config_file = 'autograph/play/config/LiorBrett/seeBothInfs.json'\n",
    "# use a limited quick MCTS search\n",
    "config_file = '../../autograph/play/config/guardInf/newActions/full_500_Auts_10by10.json'\n",
    "\n",
    "# Checkpoint path\n",
    "checkpoint_base_path = '../../checkpoints/newActionsCass/may14'\n",
    "#checkpoint_base_path = ''\n",
    "\n",
    "# If you don't want to use a checkpoint, use this\n",
    "#checkpoint_base_path = ''\n",
    "run_name = 'partial_500_Auts_10by10_cas'\n",
    "postfix = ''\n",
    "\n",
    "\n",
    "envs, get_pi_cnn, do_mcts_batch, get_tree_and_play_policies = init_game(config_file, checkpoint_base_path,run_name,postfix, \"cpu\")\n",
    "\n",
    "# Do 20 play steps\n",
    "maxsteps = 20\n",
    "stepnum, done, lastplayer, lastrew, lastautstate, finishedrun = doenvsteps(envs, action_choice=1, maxsteps=maxsteps, printsteps=True, dorender=True, get_pi_cnn=get_pi_cnn, do_mcts_batch=do_mcts_batch, get_tree_and_play_policies=get_tree_and_play_policies)"
   ]
  },
  {
   "cell_type": "code",
   "execution_count": null,
   "metadata": {},
   "outputs": [],
   "source": []
  },
  {
   "cell_type": "code",
   "execution_count": null,
   "metadata": {},
   "outputs": [],
   "source": []
  },
  {
   "cell_type": "code",
   "execution_count": null,
   "metadata": {},
   "outputs": [],
   "source": []
  },
  {
   "cell_type": "code",
   "execution_count": null,
   "metadata": {},
   "outputs": [],
   "source": []
  },
  {
   "cell_type": "code",
   "execution_count": null,
   "metadata": {},
   "outputs": [],
   "source": []
  }
 ],
 "metadata": {
  "kernelspec": {
   "display_name": "Python 3",
   "language": "python",
   "name": "python3"
  },
  "language_info": {
   "codemirror_mode": {
    "name": "ipython",
    "version": 3
   },
   "file_extension": ".py",
   "mimetype": "text/x-python",
   "name": "python",
   "nbconvert_exporter": "python",
   "pygments_lexer": "ipython3",
   "version": "3.7.6"
  }
 },
 "nbformat": 4,
 "nbformat_minor": 1
}