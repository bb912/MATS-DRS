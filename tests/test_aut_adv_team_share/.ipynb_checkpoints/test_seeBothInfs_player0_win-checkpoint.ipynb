{
 "cells": [
  {
   "cell_type": "code",
   "execution_count": 2,
   "metadata": {
    "pycharm": {
     "name": "#%%\n"
    }
   },
   "outputs": [
    {
     "name": "stdout",
     "output_type": "stream",
     "text": [
      "['/home/brett/PycharmProjects/vgcharm/tests/test_aut_adv_team_share', '/home/brett/PycharmProjects/vgcharm/tests/test_aut_adv_team_share', '/home/brett/anaconda3/envs/vgcharm/lib/python37.zip', '/home/brett/anaconda3/envs/vgcharm/lib/python3.7', '/home/brett/anaconda3/envs/vgcharm/lib/python3.7/lib-dynload', '', '/home/brett/anaconda3/envs/vgcharm/lib/python3.7/site-packages', '/home/brett/anaconda3/envs/vgcharm/lib/python3.7/site-packages/IPython/extensions', '/home/brett/.ipython']\n"
     ]
    },
    {
     "ename": "ModuleNotFoundError",
     "evalue": "No module named 'autograph'",
     "output_type": "error",
     "traceback": [
      "\u001b[0;31m---------------------------------------------------------------------------\u001b[0m",
      "\u001b[0;31mModuleNotFoundError\u001b[0m                       Traceback (most recent call last)",
      "\u001b[0;32m<ipython-input-2-1bb710bf3ab6>\u001b[0m in \u001b[0;36m<module>\u001b[0;34m\u001b[0m\n\u001b[1;32m      1\u001b[0m \u001b[0;32mimport\u001b[0m \u001b[0msys\u001b[0m\u001b[0;34m;\u001b[0m \u001b[0mprint\u001b[0m\u001b[0;34m(\u001b[0m\u001b[0msys\u001b[0m\u001b[0;34m.\u001b[0m\u001b[0mpath\u001b[0m\u001b[0;34m)\u001b[0m\u001b[0;34m\u001b[0m\u001b[0;34m\u001b[0m\u001b[0m\n\u001b[0;32m----> 2\u001b[0;31m \u001b[0;32mfrom\u001b[0m \u001b[0mautograph\u001b[0m\u001b[0;34m.\u001b[0m\u001b[0mplay\u001b[0m\u001b[0;34m.\u001b[0m\u001b[0mmaze_nn_aut_adv_team_share\u001b[0m \u001b[0;32mimport\u001b[0m \u001b[0minit_game\u001b[0m\u001b[0;34m\u001b[0m\u001b[0;34m\u001b[0m\u001b[0m\n\u001b[0m\u001b[1;32m      3\u001b[0m \u001b[0;32mfrom\u001b[0m \u001b[0mautograph\u001b[0m\u001b[0;34m.\u001b[0m\u001b[0mlib\u001b[0m\u001b[0;34m.\u001b[0m\u001b[0mutil\u001b[0m\u001b[0;34m.\u001b[0m\u001b[0mtest_helper_team\u001b[0m \u001b[0;32mimport\u001b[0m \u001b[0mdoenvsteps\u001b[0m\u001b[0;34m,\u001b[0m \u001b[0mget_and_plot_policies\u001b[0m\u001b[0;34m\u001b[0m\u001b[0;34m\u001b[0m\u001b[0m\n\u001b[1;32m      4\u001b[0m \u001b[0;34m\u001b[0m\u001b[0m\n\u001b[1;32m      5\u001b[0m \u001b[0;31m#config_file = 'autograph/play/config/LiorBrett/seeBothInfs.json'\u001b[0m\u001b[0;34m\u001b[0m\u001b[0;34m\u001b[0m\u001b[0;34m\u001b[0m\u001b[0m\n",
      "\u001b[0;31mModuleNotFoundError\u001b[0m: No module named 'autograph'"
     ]
    }
   ],
   "source": [
    "import sys; print(sys.path)\n",
    "!export PYTHONP\n",
    "from autograph.play.maze_nn_aut_adv_team_share import init_game\n",
    "from autograph.lib.util.test_helper_team import doenvsteps, get_and_plot_policies\n",
    "\n",
    "#config_file = 'autograph/play/config/LiorBrett/seeBothInfs.json'\n",
    "# use a limited quick MCTS search\n",
    "config_file = '../../autograph/play/config/LiorBrett/seeBothInfs_quick.json'\n",
    "\n",
    "# Checkpoint path\n",
    "checkpoint_base_path = '/media/sf_LOCAL_DRIVE/checkpoints/Brett/%s'\n",
    "\n",
    "# If you don't want to use a checkpoint, use this\n",
    "#checkpoint_base_path = ''\n",
    "run_name = 'seeBoth501'\n",
    "postfix = ''\n",
    "\n",
    "envs, get_pi_cnn, do_mcts_batch, get_tree_and_play_policies = init_game(config_file, checkpoint_base_path,run_name,postfix, \"cpu\")\n",
    "\n",
    "envs[0].render()\n",
    "get_and_plot_policies(envs, do_mcts_batch=do_mcts_batch, get_pi_cnn=get_pi_cnn, get_tree_and_play_policies=get_tree_and_play_policies)\n",
    "\n",
    "actionlist = [[0,0,2,0,0,3,1,1,0,0,2,0,3,0],\n",
    "              [],\n",
    "              [],\n",
    "              []]\n",
    "stepnum, done, lastplayer, lastrew, lastautstate, finishedrun = doenvsteps(envs, actionlist, do_mcts_batch=do_mcts_batch)\n",
    "assert(finishedrun)\n",
    "\n",
    "print(\"\")\n",
    "envs[0].render()\n",
    "get_and_plot_policies(envs, do_mcts_batch=do_mcts_batch, get_pi_cnn=get_pi_cnn, get_tree_and_play_policies=get_tree_and_play_policies)\n"
   ]
  },
  {
   "cell_type": "code",
   "execution_count": null,
   "metadata": {},
   "outputs": [],
   "source": []
  }
 ],
 "metadata": {
  "kernelspec": {
   "display_name": "Python 3",
   "language": "python",
   "name": "python3"
  },
  "language_info": {
   "codemirror_mode": {
    "name": "ipython",
    "version": 3
   },
   "file_extension": ".py",
   "mimetype": "text/x-python",
   "name": "python",
   "nbconvert_exporter": "python",
   "pygments_lexer": "ipython3",
   "version": "3.7.6"
  }
 },
 "nbformat": 4,
 "nbformat_minor": 1
}
